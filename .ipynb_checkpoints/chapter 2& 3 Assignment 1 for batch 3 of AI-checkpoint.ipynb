{
 "cells": [
  {
   "cell_type": "code",
   "execution_count": 2,
   "metadata": {},
   "outputs": [],
   "source": [
    "a = 11\n",
    "# a is variable name (identifier)\n",
    "# = assignment operator\n",
    "# 11 value (integer value"
   ]
  },
  {
   "cell_type": "code",
   "execution_count": 3,
   "metadata": {},
   "outputs": [
    {
     "name": "stdout",
     "output_type": "stream",
     "text": [
      "11\n"
     ]
    }
   ],
   "source": [
    "print(a)"
   ]
  },
  {
   "cell_type": "code",
   "execution_count": 5,
   "metadata": {},
   "outputs": [
    {
     "name": "stdout",
     "output_type": "stream",
     "text": [
      "11.5\n"
     ]
    }
   ],
   "source": [
    "a = 11.5\n",
    "print (a)"
   ]
  },
  {
   "cell_type": "code",
   "execution_count": 13,
   "metadata": {},
   "outputs": [
    {
     "name": "stdout",
     "output_type": "stream",
     "text": [
      "aqeel\n",
      "piaic69642\n",
      "Aic\n",
      "islamabad\n",
      "bahria university auditorium\n",
      "main campus\n",
      "q1\n",
      "3\n"
     ]
    }
   ],
   "source": [
    "ful_name = \"aqeel\"\n",
    "roll_no = \"piaic69642\"\n",
    "course = \"Aic\"\n",
    "city = \"islamabad\"\n",
    "center = \"bahria university auditorium\"\n",
    "campus = \"main campus\"\n",
    "quarter = \"q1\"\n",
    "batch = \"3\"\n",
    "print (ful_name)\n",
    "print (roll_no)\n",
    "print (course)\n",
    "print (city)\n",
    "print (center)\n",
    "print (campus)\n",
    "print (quarter)\n",
    "print (batch)"
   ]
  },
  {
   "cell_type": "code",
   "execution_count": null,
   "metadata": {},
   "outputs": [],
   "source": [
    "# Operator {+ , - , * , / }"
   ]
  },
  {
   "cell_type": "code",
   "execution_count": 14,
   "metadata": {},
   "outputs": [
    {
     "name": "stdout",
     "output_type": "stream",
     "text": [
      "10\n"
     ]
    }
   ],
   "source": [
    "print (5+5)"
   ]
  },
  {
   "cell_type": "code",
   "execution_count": 15,
   "metadata": {},
   "outputs": [
    {
     "name": "stdout",
     "output_type": "stream",
     "text": [
      "5\n"
     ]
    }
   ],
   "source": [
    "print (10-5)"
   ]
  },
  {
   "cell_type": "code",
   "execution_count": 17,
   "metadata": {},
   "outputs": [
    {
     "name": "stdout",
     "output_type": "stream",
     "text": [
      "66\n"
     ]
    }
   ],
   "source": [
    "a = 22\n",
    "b = 44\n",
    "print (a+b)"
   ]
  },
  {
   "cell_type": "code",
   "execution_count": 19,
   "metadata": {},
   "outputs": [
    {
     "name": "stdout",
     "output_type": "stream",
     "text": [
      "66\n"
     ]
    }
   ],
   "source": [
    "a = 22\n",
    "b = 44\n",
    "c = a+b\n",
    "print (c)"
   ]
  },
  {
   "cell_type": "code",
   "execution_count": 21,
   "metadata": {},
   "outputs": [
    {
     "name": "stdout",
     "output_type": "stream",
     "text": [
      "-73.7\n"
     ]
    }
   ],
   "source": [
    "value1 = 77\n",
    "value2 = 3.3\n",
    "sum = value2 - value1\n",
    "print (sum)"
   ]
  },
  {
   "cell_type": "code",
   "execution_count": 23,
   "metadata": {},
   "outputs": [
    {
     "name": "stdout",
     "output_type": "stream",
     "text": [
      "254.1\n"
     ]
    }
   ],
   "source": [
    "value1 = 77\n",
    "value2 = 3.3\n",
    "sum = value2 * value1\n",
    "print (sum)"
   ]
  },
  {
   "cell_type": "code",
   "execution_count": 24,
   "metadata": {},
   "outputs": [
    {
     "name": "stdout",
     "output_type": "stream",
     "text": [
      "0.04285714285714286\n"
     ]
    }
   ],
   "source": [
    "value1 = 77\n",
    "value2 = 3.3\n",
    "sum = value2 / value1 #python by defult floating point value answer with single /\n",
    "print (sum)"
   ]
  },
  {
   "cell_type": "code",
   "execution_count": 29,
   "metadata": {},
   "outputs": [
    {
     "name": "stdout",
     "output_type": "stream",
     "text": [
      "0.0\n"
     ]
    }
   ],
   "source": [
    "value1 = 77\n",
    "value2 = 3.3\n",
    "sum = value2// value1 # integar division with double // \n",
    "print (sum)"
   ]
  },
  {
   "cell_type": "code",
   "execution_count": 30,
   "metadata": {},
   "outputs": [
    {
     "name": "stdout",
     "output_type": "stream",
     "text": [
      "a is less then b\n",
      "hello world\n",
      "hello pakistan\n"
     ]
    }
   ],
   "source": [
    "a = 1000\n",
    "b = 2000\n",
    "if a<b:\n",
    "    print (\"a is less then b\") # here if condition give output on that condition if condition is true. on the other side if condition is false then output is not printed .\n",
    "    print (\"hello world\")   # here also we studied blog and indent\n",
    "    print (\"hello pakistan\")"
   ]
  },
  {
   "cell_type": "code",
   "execution_count": null,
   "metadata": {},
   "outputs": [],
   "source": []
  }
 ],
 "metadata": {
  "kernelspec": {
   "display_name": "Python 3",
   "language": "python",
   "name": "python3"
  },
  "language_info": {
   "codemirror_mode": {
    "name": "ipython",
    "version": 3
   },
   "file_extension": ".py",
   "mimetype": "text/x-python",
   "name": "python",
   "nbconvert_exporter": "python",
   "pygments_lexer": "ipython3",
   "version": "3.7.4"
  }
 },
 "nbformat": 4,
 "nbformat_minor": 2
}
